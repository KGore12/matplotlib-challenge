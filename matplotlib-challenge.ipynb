{
 "cells": [
  {
   "cell_type": "markdown",
   "metadata": {},
   "source": [
    "## Final Observations and Insights \n",
    "\n",
    "(1)  Gender of the mice did not appear to have an impact on the effectiveness of the drug treatments.  This was ascertained by evaluating the ratio of male to female mice and comparing to the size of the tumors. \n",
    "\n",
    "(2)  Of the 4 treatments analyzed, the average tumor volume increased over time with the drugs Ceftamin and Infubinol. \n",
    "\n",
    "(3)  Capomulin showed the strong results in improving tumor volume but Ramicane was the best for the timeframe in the data,of the 4 treatments analyzed."
   ]
  },
  {
   "cell_type": "markdown",
   "metadata": {},
   "source": []
  },
  {
   "cell_type": "code",
   "execution_count": 4,
   "metadata": {},
   "outputs": [],
   "source": [
    "# Dependencies and Setup\n",
    "import matplotlib.pyplot as plt\n",
    "import pandas as pd\n",
    "import scipy.stats as st\n",
    "import numpy as np\n",
    "\n",
    "\n",
    "# Study data files\n",
    "mouse_metadata_path = \"data/Mouse_metadata.csv\"\n",
    "study_results_path = \"data/Study_results.csv\"\n",
    "\n",
    "\n",
    "# Read and display the mouse data and the study results. \n",
    "# Display so you know how which to combine the \"on\"\n",
    "mouse_drug_df = pd.read_csv(mouse_metadata_path)\n",
    "study_results_df = pd.read_csv(study_results_path)"
   ]
  },
  {
   "cell_type": "code",
   "execution_count": 5,
   "metadata": {},
   "outputs": [
    {
     "data": {
      "text/html": [
       "<div>\n",
       "<style scoped>\n",
       "    .dataframe tbody tr th:only-of-type {\n",
       "        vertical-align: middle;\n",
       "    }\n",
       "\n",
       "    .dataframe tbody tr th {\n",
       "        vertical-align: top;\n",
       "    }\n",
       "\n",
       "    .dataframe thead th {\n",
       "        text-align: right;\n",
       "    }\n",
       "</style>\n",
       "<table border=\"1\" class=\"dataframe\">\n",
       "  <thead>\n",
       "    <tr style=\"text-align: right;\">\n",
       "      <th></th>\n",
       "      <th>Mouse ID</th>\n",
       "      <th>Drug Regimen</th>\n",
       "      <th>Sex</th>\n",
       "      <th>Age (months)</th>\n",
       "      <th>Weight (g)</th>\n",
       "      <th>Timepoint</th>\n",
       "      <th>Tumor Volume (mm3)</th>\n",
       "      <th>Metastatic Sites</th>\n",
       "    </tr>\n",
       "  </thead>\n",
       "  <tbody>\n",
       "    <tr>\n",
       "      <th>0</th>\n",
       "      <td>k403</td>\n",
       "      <td>Ramicane</td>\n",
       "      <td>Male</td>\n",
       "      <td>21</td>\n",
       "      <td>16</td>\n",
       "      <td>0</td>\n",
       "      <td>45.000000</td>\n",
       "      <td>0</td>\n",
       "    </tr>\n",
       "    <tr>\n",
       "      <th>1</th>\n",
       "      <td>k403</td>\n",
       "      <td>Ramicane</td>\n",
       "      <td>Male</td>\n",
       "      <td>21</td>\n",
       "      <td>16</td>\n",
       "      <td>5</td>\n",
       "      <td>38.825898</td>\n",
       "      <td>0</td>\n",
       "    </tr>\n",
       "    <tr>\n",
       "      <th>2</th>\n",
       "      <td>k403</td>\n",
       "      <td>Ramicane</td>\n",
       "      <td>Male</td>\n",
       "      <td>21</td>\n",
       "      <td>16</td>\n",
       "      <td>10</td>\n",
       "      <td>35.014271</td>\n",
       "      <td>1</td>\n",
       "    </tr>\n",
       "    <tr>\n",
       "      <th>3</th>\n",
       "      <td>k403</td>\n",
       "      <td>Ramicane</td>\n",
       "      <td>Male</td>\n",
       "      <td>21</td>\n",
       "      <td>16</td>\n",
       "      <td>15</td>\n",
       "      <td>34.223992</td>\n",
       "      <td>1</td>\n",
       "    </tr>\n",
       "    <tr>\n",
       "      <th>4</th>\n",
       "      <td>k403</td>\n",
       "      <td>Ramicane</td>\n",
       "      <td>Male</td>\n",
       "      <td>21</td>\n",
       "      <td>16</td>\n",
       "      <td>20</td>\n",
       "      <td>32.997729</td>\n",
       "      <td>1</td>\n",
       "    </tr>\n",
       "  </tbody>\n",
       "</table>\n",
       "</div>"
      ],
      "text/plain": [
       "  Mouse ID Drug Regimen   Sex  Age (months)  Weight (g)  Timepoint  \\\n",
       "0     k403     Ramicane  Male            21          16          0   \n",
       "1     k403     Ramicane  Male            21          16          5   \n",
       "2     k403     Ramicane  Male            21          16         10   \n",
       "3     k403     Ramicane  Male            21          16         15   \n",
       "4     k403     Ramicane  Male            21          16         20   \n",
       "\n",
       "   Tumor Volume (mm3)  Metastatic Sites  \n",
       "0           45.000000                 0  \n",
       "1           38.825898                 0  \n",
       "2           35.014271                 1  \n",
       "3           34.223992                 1  \n",
       "4           32.997729                 1  "
      ]
     },
     "execution_count": 5,
     "metadata": {},
     "output_type": "execute_result"
    }
   ],
   "source": [
    "# Combine the data into a single dataset\n",
    "#Example code:combined_unemployed_data = pd.merge(unemployed_data_one, unemployed_data_two, on=\"Country Name\")\n",
    "combined_mouse_data = pd.merge(mouse_drug_df, study_results_df, on=\"Mouse ID\")\n",
    "\n",
    "# Rename the 'Age_months' column to be consistent with Tumor Volume (mm3) column:\n",
    "combined_mouse_data=combined_mouse_data.rename(columns={\"Age_months\":\"Age (months)\"})\n",
    "\n",
    "combined_mouse_data.head()"
   ]
  },
  {
   "cell_type": "code",
   "execution_count": 6,
   "metadata": {
    "scrolled": false
   },
   "outputs": [
    {
     "data": {
      "text/html": [
       "<div>\n",
       "<style scoped>\n",
       "    .dataframe tbody tr th:only-of-type {\n",
       "        vertical-align: middle;\n",
       "    }\n",
       "\n",
       "    .dataframe tbody tr th {\n",
       "        vertical-align: top;\n",
       "    }\n",
       "\n",
       "    .dataframe thead th {\n",
       "        text-align: right;\n",
       "    }\n",
       "</style>\n",
       "<table border=\"1\" class=\"dataframe\">\n",
       "  <thead>\n",
       "    <tr style=\"text-align: right;\">\n",
       "      <th></th>\n",
       "      <th>Mouse ID</th>\n",
       "      <th>Drug Regimen</th>\n",
       "      <th>Sex</th>\n",
       "      <th>Age (months)</th>\n",
       "      <th>Weight (g)</th>\n",
       "      <th>Timepoint</th>\n",
       "      <th>Tumor Volume (mm3)</th>\n",
       "      <th>Metastatic Sites</th>\n",
       "    </tr>\n",
       "  </thead>\n",
       "  <tbody>\n",
       "    <tr>\n",
       "      <th>460</th>\n",
       "      <td>a203</td>\n",
       "      <td>Infubinol</td>\n",
       "      <td>Female</td>\n",
       "      <td>20</td>\n",
       "      <td>23</td>\n",
       "      <td>30</td>\n",
       "      <td>59.523197</td>\n",
       "      <td>1</td>\n",
       "    </tr>\n",
       "    <tr>\n",
       "      <th>461</th>\n",
       "      <td>a203</td>\n",
       "      <td>Infubinol</td>\n",
       "      <td>Female</td>\n",
       "      <td>20</td>\n",
       "      <td>23</td>\n",
       "      <td>35</td>\n",
       "      <td>61.931650</td>\n",
       "      <td>2</td>\n",
       "    </tr>\n",
       "    <tr>\n",
       "      <th>459</th>\n",
       "      <td>a203</td>\n",
       "      <td>Infubinol</td>\n",
       "      <td>Female</td>\n",
       "      <td>20</td>\n",
       "      <td>23</td>\n",
       "      <td>25</td>\n",
       "      <td>56.793208</td>\n",
       "      <td>1</td>\n",
       "    </tr>\n",
       "    <tr>\n",
       "      <th>458</th>\n",
       "      <td>a203</td>\n",
       "      <td>Infubinol</td>\n",
       "      <td>Female</td>\n",
       "      <td>20</td>\n",
       "      <td>23</td>\n",
       "      <td>20</td>\n",
       "      <td>55.173336</td>\n",
       "      <td>1</td>\n",
       "    </tr>\n",
       "    <tr>\n",
       "      <th>457</th>\n",
       "      <td>a203</td>\n",
       "      <td>Infubinol</td>\n",
       "      <td>Female</td>\n",
       "      <td>20</td>\n",
       "      <td>23</td>\n",
       "      <td>15</td>\n",
       "      <td>52.777870</td>\n",
       "      <td>1</td>\n",
       "    </tr>\n",
       "  </tbody>\n",
       "</table>\n",
       "</div>"
      ],
      "text/plain": [
       "    Mouse ID Drug Regimen     Sex  Age (months)  Weight (g)  Timepoint  \\\n",
       "460     a203    Infubinol  Female            20          23         30   \n",
       "461     a203    Infubinol  Female            20          23         35   \n",
       "459     a203    Infubinol  Female            20          23         25   \n",
       "458     a203    Infubinol  Female            20          23         20   \n",
       "457     a203    Infubinol  Female            20          23         15   \n",
       "\n",
       "     Tumor Volume (mm3)  Metastatic Sites  \n",
       "460           59.523197                 1  \n",
       "461           61.931650                 2  \n",
       "459           56.793208                 1  \n",
       "458           55.173336                 1  \n",
       "457           52.777870                 1  "
      ]
     },
     "execution_count": 6,
     "metadata": {},
     "output_type": "execute_result"
    }
   ],
   "source": [
    "# sorting csv file to filter out duplicate values \n",
    "    # Example code: data.sort_values(\"First Name\", inplace = True) \n",
    "combined_mouse_data.sort_values([\"Mouse ID\"], inplace = True)\n",
    "combined_mouse_data.head()"
   ]
  },
  {
   "cell_type": "code",
   "execution_count": 7,
   "metadata": {},
   "outputs": [
    {
     "data": {
      "text/plain": [
       "249"
      ]
     },
     "execution_count": 7,
     "metadata": {},
     "output_type": "execute_result"
    }
   ],
   "source": [
    "# Checking the number of mice.\n",
    "mice=combined_mouse_data[\"Mouse ID\"].value_counts()\n",
    "number_of_mice=len(mice)\n",
    "number_of_mice"
   ]
  },
  {
   "cell_type": "code",
   "execution_count": 8,
   "metadata": {},
   "outputs": [],
   "source": [
    "# Getting the duplicate mice by ID number that shows up for Mouse ID and Timepoint. \n",
    "duplicate_mice = combined_mouse_data.loc[combined_mouse_data.duplicated(subset=['Mouse ID', 'Timepoint',]),'Mouse ID'].unique()"
   ]
  },
  {
   "cell_type": "code",
   "execution_count": 9,
   "metadata": {},
   "outputs": [
    {
     "data": {
      "text/html": [
       "<div>\n",
       "<style scoped>\n",
       "    .dataframe tbody tr th:only-of-type {\n",
       "        vertical-align: middle;\n",
       "    }\n",
       "\n",
       "    .dataframe tbody tr th {\n",
       "        vertical-align: top;\n",
       "    }\n",
       "\n",
       "    .dataframe thead th {\n",
       "        text-align: right;\n",
       "    }\n",
       "</style>\n",
       "<table border=\"1\" class=\"dataframe\">\n",
       "  <thead>\n",
       "    <tr style=\"text-align: right;\">\n",
       "      <th></th>\n",
       "      <th>Mouse ID</th>\n",
       "      <th>Drug Regimen</th>\n",
       "      <th>Sex</th>\n",
       "      <th>Age (months)</th>\n",
       "      <th>Weight (g)</th>\n",
       "      <th>Timepoint</th>\n",
       "      <th>Tumor Volume (mm3)</th>\n",
       "      <th>Metastatic Sites</th>\n",
       "    </tr>\n",
       "  </thead>\n",
       "  <tbody>\n",
       "    <tr>\n",
       "      <th>908</th>\n",
       "      <td>g989</td>\n",
       "      <td>Propriva</td>\n",
       "      <td>Female</td>\n",
       "      <td>21</td>\n",
       "      <td>26</td>\n",
       "      <td>0</td>\n",
       "      <td>45.0</td>\n",
       "      <td>0</td>\n",
       "    </tr>\n",
       "  </tbody>\n",
       "</table>\n",
       "</div>"
      ],
      "text/plain": [
       "    Mouse ID Drug Regimen     Sex  Age (months)  Weight (g)  Timepoint  \\\n",
       "908     g989     Propriva  Female            21          26          0   \n",
       "\n",
       "     Tumor Volume (mm3)  Metastatic Sites  \n",
       "908                45.0                 0  "
      ]
     },
     "execution_count": 9,
     "metadata": {},
     "output_type": "execute_result"
    }
   ],
   "source": [
    "# Find the duplicate rows\n",
    "    # Example Code: duplicateDFRow = dfObj[dfObj.duplicated()]\n",
    "    # Example Code: print(duplicateDFRow)\n",
    "duplicate_mouse_data = combined_mouse_data[combined_mouse_data.duplicated()]\n",
    "duplicate_mouse_data.head()"
   ]
  },
  {
   "cell_type": "code",
   "execution_count": 69,
   "metadata": {},
   "outputs": [
    {
     "data": {
      "text/html": [
       "<div>\n",
       "<style scoped>\n",
       "    .dataframe tbody tr th:only-of-type {\n",
       "        vertical-align: middle;\n",
       "    }\n",
       "\n",
       "    .dataframe tbody tr th {\n",
       "        vertical-align: top;\n",
       "    }\n",
       "\n",
       "    .dataframe thead th {\n",
       "        text-align: right;\n",
       "    }\n",
       "</style>\n",
       "<table border=\"1\" class=\"dataframe\">\n",
       "  <thead>\n",
       "    <tr style=\"text-align: right;\">\n",
       "      <th></th>\n",
       "      <th>Mouse ID</th>\n",
       "      <th>Drug Regimen</th>\n",
       "      <th>Sex</th>\n",
       "      <th>Age (months)</th>\n",
       "      <th>Weight (g)</th>\n",
       "      <th>Timepoint</th>\n",
       "      <th>Tumor Volume (mm3)</th>\n",
       "      <th>Metastatic Sites</th>\n",
       "    </tr>\n",
       "  </thead>\n",
       "  <tbody>\n",
       "    <tr>\n",
       "      <th>460</th>\n",
       "      <td>a203</td>\n",
       "      <td>Infubinol</td>\n",
       "      <td>Female</td>\n",
       "      <td>20</td>\n",
       "      <td>23</td>\n",
       "      <td>30</td>\n",
       "      <td>59.523197</td>\n",
       "      <td>1</td>\n",
       "    </tr>\n",
       "    <tr>\n",
       "      <th>461</th>\n",
       "      <td>a203</td>\n",
       "      <td>Infubinol</td>\n",
       "      <td>Female</td>\n",
       "      <td>20</td>\n",
       "      <td>23</td>\n",
       "      <td>35</td>\n",
       "      <td>61.931650</td>\n",
       "      <td>2</td>\n",
       "    </tr>\n",
       "    <tr>\n",
       "      <th>459</th>\n",
       "      <td>a203</td>\n",
       "      <td>Infubinol</td>\n",
       "      <td>Female</td>\n",
       "      <td>20</td>\n",
       "      <td>23</td>\n",
       "      <td>25</td>\n",
       "      <td>56.793208</td>\n",
       "      <td>1</td>\n",
       "    </tr>\n",
       "    <tr>\n",
       "      <th>458</th>\n",
       "      <td>a203</td>\n",
       "      <td>Infubinol</td>\n",
       "      <td>Female</td>\n",
       "      <td>20</td>\n",
       "      <td>23</td>\n",
       "      <td>20</td>\n",
       "      <td>55.173336</td>\n",
       "      <td>1</td>\n",
       "    </tr>\n",
       "    <tr>\n",
       "      <th>457</th>\n",
       "      <td>a203</td>\n",
       "      <td>Infubinol</td>\n",
       "      <td>Female</td>\n",
       "      <td>20</td>\n",
       "      <td>23</td>\n",
       "      <td>15</td>\n",
       "      <td>52.777870</td>\n",
       "      <td>1</td>\n",
       "    </tr>\n",
       "  </tbody>\n",
       "</table>\n",
       "</div>"
      ],
      "text/plain": [
       "    Mouse ID Drug Regimen     Sex  Age (months)  Weight (g)  Timepoint  \\\n",
       "460     a203    Infubinol  Female            20          23         30   \n",
       "461     a203    Infubinol  Female            20          23         35   \n",
       "459     a203    Infubinol  Female            20          23         25   \n",
       "458     a203    Infubinol  Female            20          23         20   \n",
       "457     a203    Infubinol  Female            20          23         15   \n",
       "\n",
       "     Tumor Volume (mm3)  Metastatic Sites  \n",
       "460           59.523197                 1  \n",
       "461           61.931650                 2  \n",
       "459           56.793208                 1  \n",
       "458           55.173336                 1  \n",
       "457           52.777870                 1  "
      ]
     },
     "execution_count": 69,
     "metadata": {},
     "output_type": "execute_result"
    }
   ],
   "source": [
    "# Create a clean DataFrame by dropping the duplicate mouse by its ID.\n",
    "clean_mouse_df = combined_mouse_data[combined_mouse_data['Mouse ID'].isin(duplicate_mice)==False]\n",
    "\n",
    "clean_mouse_df.head()"
   ]
  },
  {
   "cell_type": "code",
   "execution_count": 16,
   "metadata": {},
   "outputs": [
    {
     "data": {
      "text/plain": [
       "248"
      ]
     },
     "execution_count": 16,
     "metadata": {},
     "output_type": "execute_result"
    }
   ],
   "source": [
    "# Checking the number of mice in the clean DataFrame.\n",
    "clean_mice=clean_mouse_df[\"Mouse ID\"].value_counts()\n",
    "clean_number_of_mice=len(clean_mice)\n",
    "clean_number_of_mice"
   ]
  },
  {
   "cell_type": "markdown",
   "metadata": {},
   "source": [
    "## Summary Statistics"
   ]
  },
  {
   "cell_type": "code",
   "execution_count": 17,
   "metadata": {},
   "outputs": [
    {
     "data": {
      "text/html": [
       "<div>\n",
       "<style scoped>\n",
       "    .dataframe tbody tr th:only-of-type {\n",
       "        vertical-align: middle;\n",
       "    }\n",
       "\n",
       "    .dataframe tbody tr th {\n",
       "        vertical-align: top;\n",
       "    }\n",
       "\n",
       "    .dataframe thead th {\n",
       "        text-align: right;\n",
       "    }\n",
       "</style>\n",
       "<table border=\"1\" class=\"dataframe\">\n",
       "  <thead>\n",
       "    <tr style=\"text-align: right;\">\n",
       "      <th></th>\n",
       "      <th>Volume Mean</th>\n",
       "      <th>Volume Median</th>\n",
       "      <th>Volume Variance</th>\n",
       "      <th>Volume Standard Deviation</th>\n",
       "      <th>Volume SEM</th>\n",
       "    </tr>\n",
       "    <tr>\n",
       "      <th>Drug Regimen</th>\n",
       "      <th></th>\n",
       "      <th></th>\n",
       "      <th></th>\n",
       "      <th></th>\n",
       "      <th></th>\n",
       "    </tr>\n",
       "  </thead>\n",
       "  <tbody>\n",
       "    <tr>\n",
       "      <th>Capomulin</th>\n",
       "      <td>40.675741</td>\n",
       "      <td>41.557809</td>\n",
       "      <td>24.947764</td>\n",
       "      <td>4.994774</td>\n",
       "      <td>0.329346</td>\n",
       "    </tr>\n",
       "    <tr>\n",
       "      <th>Ceftamin</th>\n",
       "      <td>52.591172</td>\n",
       "      <td>51.776157</td>\n",
       "      <td>39.290177</td>\n",
       "      <td>6.268188</td>\n",
       "      <td>0.469821</td>\n",
       "    </tr>\n",
       "    <tr>\n",
       "      <th>Infubinol</th>\n",
       "      <td>52.884795</td>\n",
       "      <td>51.820584</td>\n",
       "      <td>43.128684</td>\n",
       "      <td>6.567243</td>\n",
       "      <td>0.492236</td>\n",
       "    </tr>\n",
       "    <tr>\n",
       "      <th>Ketapril</th>\n",
       "      <td>55.235638</td>\n",
       "      <td>53.698743</td>\n",
       "      <td>68.553577</td>\n",
       "      <td>8.279709</td>\n",
       "      <td>0.603860</td>\n",
       "    </tr>\n",
       "    <tr>\n",
       "      <th>Naftisol</th>\n",
       "      <td>54.331565</td>\n",
       "      <td>52.509285</td>\n",
       "      <td>66.173479</td>\n",
       "      <td>8.134708</td>\n",
       "      <td>0.596466</td>\n",
       "    </tr>\n",
       "    <tr>\n",
       "      <th>Placebo</th>\n",
       "      <td>54.033581</td>\n",
       "      <td>52.288934</td>\n",
       "      <td>61.168083</td>\n",
       "      <td>7.821003</td>\n",
       "      <td>0.581331</td>\n",
       "    </tr>\n",
       "    <tr>\n",
       "      <th>Propriva</th>\n",
       "      <td>52.320930</td>\n",
       "      <td>50.446266</td>\n",
       "      <td>43.852013</td>\n",
       "      <td>6.622085</td>\n",
       "      <td>0.544332</td>\n",
       "    </tr>\n",
       "    <tr>\n",
       "      <th>Ramicane</th>\n",
       "      <td>40.216745</td>\n",
       "      <td>40.673236</td>\n",
       "      <td>23.486704</td>\n",
       "      <td>4.846308</td>\n",
       "      <td>0.320955</td>\n",
       "    </tr>\n",
       "    <tr>\n",
       "      <th>Stelasyn</th>\n",
       "      <td>54.233149</td>\n",
       "      <td>52.431737</td>\n",
       "      <td>59.450562</td>\n",
       "      <td>7.710419</td>\n",
       "      <td>0.573111</td>\n",
       "    </tr>\n",
       "    <tr>\n",
       "      <th>Zoniferol</th>\n",
       "      <td>53.236507</td>\n",
       "      <td>51.818479</td>\n",
       "      <td>48.533355</td>\n",
       "      <td>6.966589</td>\n",
       "      <td>0.516398</td>\n",
       "    </tr>\n",
       "  </tbody>\n",
       "</table>\n",
       "</div>"
      ],
      "text/plain": [
       "              Volume Mean  Volume Median  Volume Variance  \\\n",
       "Drug Regimen                                                \n",
       "Capomulin       40.675741      41.557809        24.947764   \n",
       "Ceftamin        52.591172      51.776157        39.290177   \n",
       "Infubinol       52.884795      51.820584        43.128684   \n",
       "Ketapril        55.235638      53.698743        68.553577   \n",
       "Naftisol        54.331565      52.509285        66.173479   \n",
       "Placebo         54.033581      52.288934        61.168083   \n",
       "Propriva        52.320930      50.446266        43.852013   \n",
       "Ramicane        40.216745      40.673236        23.486704   \n",
       "Stelasyn        54.233149      52.431737        59.450562   \n",
       "Zoniferol       53.236507      51.818479        48.533355   \n",
       "\n",
       "              Volume Standard Deviation  Volume SEM  \n",
       "Drug Regimen                                         \n",
       "Capomulin                      4.994774    0.329346  \n",
       "Ceftamin                       6.268188    0.469821  \n",
       "Infubinol                      6.567243    0.492236  \n",
       "Ketapril                       8.279709    0.603860  \n",
       "Naftisol                       8.134708    0.596466  \n",
       "Placebo                        7.821003    0.581331  \n",
       "Propriva                       6.622085    0.544332  \n",
       "Ramicane                       4.846308    0.320955  \n",
       "Stelasyn                       7.710419    0.573111  \n",
       "Zoniferol                      6.966589    0.516398  "
      ]
     },
     "execution_count": 17,
     "metadata": {},
     "output_type": "execute_result"
    }
   ],
   "source": [
    "# Generate a summary statistics table of mean, median, variance, standard deviation, and SEM of the tumor volume for each regimen\n",
    "# This method is the most straighforward, creating multiple series and putting them all together at the end.\n",
    "\n",
    "# Create GroupBy object based upon \"Drug Regimen\" column:\n",
    "grouped_by_drug_df=clean_mouse_df.groupby(['Drug Regimen'])\n",
    "#grouped_by_drug_df.count().head(15)\n",
    "\n",
    "# mean is the average\n",
    "volume_mean = clean_mouse_df.groupby('Drug Regimen')['Tumor Volume (mm3)'].mean()\n",
    "\n",
    "# median is the middle score \n",
    "volume_median = clean_mouse_df.groupby('Drug Regimen')['Tumor Volume (mm3)'].median()\n",
    "\n",
    "# variance and standard deviation is determing how far the data is spread apart\n",
    "# volume_variance\n",
    "volume_variance = clean_mouse_df.groupby('Drug Regimen')['Tumor Volume (mm3)'].var()\n",
    "\n",
    "# volume_stdev\n",
    "volume_stdev = clean_mouse_df.groupby('Drug Regimen')['Tumor Volume (mm3)'].std()\n",
    "\n",
    "# volume_sem\n",
    "volume_sem = clean_mouse_df.groupby('Drug Regimen')['Tumor Volume (mm3)'].sem()\n",
    "\n",
    "\n",
    "# Summary statistics data frame for change in tumor volume for each drug\n",
    "summary_drug_df = pd.DataFrame({\"Volume Mean\": volume_mean, \"Volume Median\": volume_median, \"Volume Variance\": volume_variance, \"Volume Standard Deviation\": volume_stdev, \"Volume SEM\": volume_sem}) \n",
    "           \n",
    "summary_drug_df"
   ]
  },
  {
   "cell_type": "code",
   "execution_count": 21,
   "metadata": {},
   "outputs": [
    {
     "data": {
      "text/plain": [
       "Drug Regimen\n",
       "Capomulin    230\n",
       "Ramicane     228\n",
       "Ketapril     188\n",
       "Naftisol     186\n",
       "Zoniferol    182\n",
       "Name: Drug Regimen, dtype: int64"
      ]
     },
     "execution_count": 21,
     "metadata": {},
     "output_type": "execute_result"
    }
   ],
   "source": [
    "# Count how many data points in each drug:\n",
    "drug_data_points=grouped_by_drug_df['Drug Regimen'].count().sort_values(ascending=False)\n",
    "drug_data_points.head()"
   ]
  },
  {
   "cell_type": "markdown",
   "metadata": {},
   "source": [
    "## Bar and Pie Charts"
   ]
  },
  {
   "cell_type": "code",
   "execution_count": 27,
   "metadata": {},
   "outputs": [
    {
     "data": {
      "image/png": "[encoded data removed]",
      "text/plain": [
       "<Figure size 648x432 with 1 Axes>"
      ]
     },
     "metadata": {
      "needs_background": "light"
     },
     "output_type": "display_data"
    }
   ],
   "source": [
    "# Create a bar chart using pandas:\n",
    "data_points_pandas=drug_data_points.plot(kind='bar', figsize=(9, 6), \n",
    "                    color=['#0000FF','#00CCFF','#CCFFFF','#CCFFCC',\n",
    "                           '#99CCFF','#FF99CC','#CC99FF','#FFCC00','#FF9900','#FF6600'], \n",
    "                                       alpha=1, edgecolor='gray', align=\"center\")\n",
    "\n",
    "# Set your x-label, y-label, and a title\n",
    "data_points_pandas.set_title('Number of Data Points for Each Treatment Regimen',fontsize=18)\n",
    "data_points_pandas.set_xlabel('Treatment Regimen',fontsize=14, color='black')\n",
    "data_points_pandas.set_ylabel(\"Number of Mice\",fontsize=14, color='black')\n",
    "\n",
    "# Set y limits:\n",
    "plt.ylim(0, 250)\n",
    "\n",
    "plt.show()"
   ]
  },
  {
   "cell_type": "code",
   "execution_count": 49,
   "metadata": {},
   "outputs": [
    {
     "data": {
      "text/plain": [
       "Text(0, 0.5, 'Number of Mice')"
      ]
     },
     "execution_count": 49,
     "metadata": {},
     "output_type": "execute_result"
    },
    {
     "data": {
      "image/png": "[encoded data removed]",
      "text/plain": [
       "<Figure size 432x432 with 1 Axes>"
      ]
     },
     "metadata": {
      "needs_background": "light"
     },
     "output_type": "display_data"
    }
   ],
   "source": [
    "# Create a bar chart using Matplotlib\n",
    "x_axis = np.arange(len(d_data_points))\n",
    "data_points_chart_2=plt.bar(x_axis, d_data_points, color=['#0000FF','#00CCFF','#CCFFFF','#CCFFCC',\n",
    "                           '#99CCFF','#FF99CC','#CC99FF','#FFCC00','#FF9900','#FF6600'], \n",
    "                            alpha=1, edgecolor='gray',align=\"center\", width=.5)\n",
    "\n",
    "\n",
    "# Set tick marks for x:\n",
    "drug_name=['Capomulin','Ramicane','Ketapril','Naftisol','Zoniferol','Stelasyn','Placebo','Infubinol','Ceftamin','Propriva'] # Find the way to use df for this step to eliminate manual drug inpt ***start with: drug_name=drr['Drug Regimen'].unique()***\n",
    "tick_locations = [value for value in x_axis]\n",
    "plt.xticks(tick_locations, drug_name, rotation=40, color='black', size=12)\n",
    "plt.yticks(color='black', size=12)\n",
    "\n",
    "\n",
    "# Set the limits of the y axis:\n",
    "plt.ylim(0, max(d_data_points)+20)\n",
    "\n",
    "# Set the limits of the x axis:\n",
    "plt.xlim(-0.50, len(x_axis)-0.50)\n",
    "\n",
    "# Set a title, x-label, and y-label:\n",
    "plt.title('Number of Data Points for Each Treatment Regimen',fontsize=18)\n",
    "plt.xlabel('Treatment Regimen',fontsize=14, color='black')\n",
    "plt.ylabel(\"Number of Mice\",fontsize=14, color='black')\n"
   ]
  },
  {
   "cell_type": "code",
   "execution_count": 50,
   "metadata": {},
   "outputs": [
    {
     "data": {
      "text/html": [
       "<div>\n",
       "<style scoped>\n",
       "    .dataframe tbody tr th:only-of-type {\n",
       "        vertical-align: middle;\n",
       "    }\n",
       "\n",
       "    .dataframe tbody tr th {\n",
       "        vertical-align: top;\n",
       "    }\n",
       "\n",
       "    .dataframe thead th {\n",
       "        text-align: right;\n",
       "    }\n",
       "</style>\n",
       "<table border=\"1\" class=\"dataframe\">\n",
       "  <thead>\n",
       "    <tr style=\"text-align: right;\">\n",
       "      <th></th>\n",
       "      <th>Total Count</th>\n",
       "      <th>Percentage of Sex</th>\n",
       "    </tr>\n",
       "    <tr>\n",
       "      <th>Sex</th>\n",
       "      <th></th>\n",
       "      <th></th>\n",
       "    </tr>\n",
       "  </thead>\n",
       "  <tbody>\n",
       "    <tr>\n",
       "      <th>Female</th>\n",
       "      <td>124</td>\n",
       "      <td>49.799197</td>\n",
       "    </tr>\n",
       "    <tr>\n",
       "      <th>Male</th>\n",
       "      <td>125</td>\n",
       "      <td>50.200803</td>\n",
       "    </tr>\n",
       "  </tbody>\n",
       "</table>\n",
       "</div>"
      ],
      "text/plain": [
       "        Total Count  Percentage of Sex\n",
       "Sex                                   \n",
       "Female          124          49.799197\n",
       "Male            125          50.200803"
      ]
     },
     "execution_count": 50,
     "metadata": {},
     "output_type": "execute_result"
    }
   ],
   "source": [
    "# Generate a pie plot using both Pandas's DataFrame.plot() and \n",
    "# Matplotlib's pyplot that shows the distribution of female or male mice in the study.\n",
    "\n",
    "#  Group by gender and get the number to plot\n",
    "gender_groups = combined_mouse_data.groupby([\"Mouse ID\",\"Sex\"])\n",
    "gender_groups\n",
    "mouse_genders_df = pd.DataFrame(gender_groups.size())\n",
    "\n",
    "# Create the dataframe with total count of Female and Male mice\n",
    "mouse_gender = pd.DataFrame(mouse_genders_df.groupby([\"Sex\"]).count())\n",
    "mouse_gender.columns = [\"Total Count\"]\n",
    "\n",
    "# create and format the percentage of female vs male\n",
    "mouse_gender[\"Percentage of Sex\"] = (100*(mouse_gender[\"Total Count\"]/mouse_gender[\"Total Count\"].sum()))\n",
    "\n",
    "# format the \"Percentage of Sex\" column\n",
    "mouse_gender[\"Percentage of Sex\"] = mouse_gender[\"Percentage of Sex\"]\n",
    "\n",
    "# gender_df\n",
    "mouse_gender"
   ]
  },
  {
   "cell_type": "code",
   "execution_count": 51,
   "metadata": {},
   "outputs": [
    {
     "data": {
      "image/png": "[encoded data removed]",
      "text/plain": [
       "<Figure size 1080x720 with 1 Axes>"
      ]
     },
     "metadata": {},
     "output_type": "display_data"
    }
   ],
   "source": [
    "# Generate a Pandas pie plot showing the distribution of female versus male mice using pandas\n",
    "\n",
    "plot = mouse_gender.plot(kind=\"pie\", y='Total Count',figsize=(15,10), autopct=\"%1.1f%%\")\n",
    "\n",
    "plt.title('Distribution of Male vs Female Mouse Population',fontsize = 20)\n",
    "\n",
    "plt.ylabel('Sex',fontsize = 14)\n",
    "\n",
    "plt.show()"
   ]
  },
  {
   "cell_type": "code",
   "execution_count": 52,
   "metadata": {},
   "outputs": [
    {
     "data": {
      "image/png": "[encoded data removed]",
      "text/plain": [
       "<Figure size 432x432 with 1 Axes>"
      ]
     },
     "metadata": {},
     "output_type": "display_data"
    }
   ],
   "source": [
    "# Generate a Matplotlib pie chart showing the distribution of female versus male mice using pyplot\n",
    "\n",
    "data=mouse_gender['Total Count']\n",
    "\n",
    "matplot =plt.pie(data, labels=['Male', 'Female'], autopct=\"%1.1f%%\")\n",
    "\n",
    "plt.title('Distribution of Male vs Female Mouse Population', fontsize=20)\n",
    "\n",
    "plt.show()"
   ]
  },
  {
   "cell_type": "markdown",
   "metadata": {},
   "source": [
    "## Quartiles, Outliers and Boxplots"
   ]
  },
  {
   "cell_type": "code",
   "execution_count": 45,
   "metadata": {},
   "outputs": [
    {
     "data": {
      "text/html": [
       "<div>\n",
       "<style scoped>\n",
       "    .dataframe tbody tr th:only-of-type {\n",
       "        vertical-align: middle;\n",
       "    }\n",
       "\n",
       "    .dataframe tbody tr th {\n",
       "        vertical-align: top;\n",
       "    }\n",
       "\n",
       "    .dataframe thead th {\n",
       "        text-align: right;\n",
       "    }\n",
       "</style>\n",
       "<table border=\"1\" class=\"dataframe\">\n",
       "  <thead>\n",
       "    <tr style=\"text-align: right;\">\n",
       "      <th></th>\n",
       "      <th>Mouse ID</th>\n",
       "      <th>Drug Regimen</th>\n",
       "      <th>Timepoint</th>\n",
       "      <th>Tumor Volume (mm3)</th>\n",
       "    </tr>\n",
       "  </thead>\n",
       "  <tbody>\n",
       "    <tr>\n",
       "      <th>460</th>\n",
       "      <td>a203</td>\n",
       "      <td>Infubinol</td>\n",
       "      <td>30</td>\n",
       "      <td>59.523197</td>\n",
       "    </tr>\n",
       "    <tr>\n",
       "      <th>461</th>\n",
       "      <td>a203</td>\n",
       "      <td>Infubinol</td>\n",
       "      <td>35</td>\n",
       "      <td>61.931650</td>\n",
       "    </tr>\n",
       "    <tr>\n",
       "      <th>459</th>\n",
       "      <td>a203</td>\n",
       "      <td>Infubinol</td>\n",
       "      <td>25</td>\n",
       "      <td>56.793208</td>\n",
       "    </tr>\n",
       "    <tr>\n",
       "      <th>458</th>\n",
       "      <td>a203</td>\n",
       "      <td>Infubinol</td>\n",
       "      <td>20</td>\n",
       "      <td>55.173336</td>\n",
       "    </tr>\n",
       "    <tr>\n",
       "      <th>457</th>\n",
       "      <td>a203</td>\n",
       "      <td>Infubinol</td>\n",
       "      <td>15</td>\n",
       "      <td>52.777870</td>\n",
       "    </tr>\n",
       "  </tbody>\n",
       "</table>\n",
       "</div>"
      ],
      "text/plain": [
       "    Mouse ID Drug Regimen  Timepoint  Tumor Volume (mm3)\n",
       "460     a203    Infubinol         30           59.523197\n",
       "461     a203    Infubinol         35           61.931650\n",
       "459     a203    Infubinol         25           56.793208\n",
       "458     a203    Infubinol         20           55.173336\n",
       "457     a203    Infubinol         15           52.777870"
      ]
     },
     "execution_count": 45,
     "metadata": {},
     "output_type": "execute_result"
    }
   ],
   "source": [
    "# Calculate the final tumor volume of each mouse across four of the treatment regimens:  \n",
    "# Capomulin, Ramicane, Infubinol, and Ceftamin (summary_drug_df)\n",
    "# Create a new dataframe using these columns 'Mouse ID','Drug Regimen','Timepoint','Tumor Volume (mm3)'\n",
    "\n",
    "new_mouse_data = combined_mouse_data[['Mouse ID','Drug Regimen','Timepoint','Tumor Volume (mm3)']]\n",
    "\n",
    "new_mouse_data.head()"
   ]
  },
  {
   "cell_type": "code",
   "execution_count": 46,
   "metadata": {},
   "outputs": [
    {
     "data": {
      "text/html": [
       "<div>\n",
       "<style scoped>\n",
       "    .dataframe tbody tr th:only-of-type {\n",
       "        vertical-align: middle;\n",
       "    }\n",
       "\n",
       "    .dataframe tbody tr th {\n",
       "        vertical-align: top;\n",
       "    }\n",
       "\n",
       "    .dataframe thead th {\n",
       "        text-align: right;\n",
       "    }\n",
       "</style>\n",
       "<table border=\"1\" class=\"dataframe\">\n",
       "  <thead>\n",
       "    <tr style=\"text-align: right;\">\n",
       "      <th></th>\n",
       "      <th>Mouse ID</th>\n",
       "      <th>Drug Regimen</th>\n",
       "      <th>Timepoint</th>\n",
       "      <th>Tumor Volume (mm3)</th>\n",
       "    </tr>\n",
       "  </thead>\n",
       "  <tbody>\n",
       "    <tr>\n",
       "      <th>1892</th>\n",
       "      <td>z969</td>\n",
       "      <td>Naftisol</td>\n",
       "      <td>45</td>\n",
       "      <td>73.867845</td>\n",
       "    </tr>\n",
       "    <tr>\n",
       "      <th>1891</th>\n",
       "      <td>z969</td>\n",
       "      <td>Naftisol</td>\n",
       "      <td>40</td>\n",
       "      <td>70.314904</td>\n",
       "    </tr>\n",
       "    <tr>\n",
       "      <th>1890</th>\n",
       "      <td>z969</td>\n",
       "      <td>Naftisol</td>\n",
       "      <td>35</td>\n",
       "      <td>69.176246</td>\n",
       "    </tr>\n",
       "    <tr>\n",
       "      <th>1889</th>\n",
       "      <td>z969</td>\n",
       "      <td>Naftisol</td>\n",
       "      <td>30</td>\n",
       "      <td>65.841013</td>\n",
       "    </tr>\n",
       "    <tr>\n",
       "      <th>1888</th>\n",
       "      <td>z969</td>\n",
       "      <td>Naftisol</td>\n",
       "      <td>25</td>\n",
       "      <td>63.145652</td>\n",
       "    </tr>\n",
       "  </tbody>\n",
       "</table>\n",
       "</div>"
      ],
      "text/plain": [
       "     Mouse ID Drug Regimen  Timepoint  Tumor Volume (mm3)\n",
       "1892     z969     Naftisol         45           73.867845\n",
       "1891     z969     Naftisol         40           70.314904\n",
       "1890     z969     Naftisol         35           69.176246\n",
       "1889     z969     Naftisol         30           65.841013\n",
       "1888     z969     Naftisol         25           63.145652"
      ]
     },
     "execution_count": 46,
     "metadata": {},
     "output_type": "execute_result"
    }
   ],
   "source": [
    "# Get the last (greatest) timepoint for each mouse\n",
    "# Use Mouse ID and Timepoint for the sorting\n",
    "\n",
    "mouseid_timepoint=new_mouse_data.sort_values(['Mouse ID','Timepoint'], ascending=False)\n",
    "\n",
    "mouseid_timepoint.head()"
   ]
  },
  {
   "cell_type": "code",
   "execution_count": 58,
   "metadata": {},
   "outputs": [
    {
     "name": "stdout",
     "output_type": "stream",
     "text": [
      "The IQR for final tumor volume for Capomulin is: 7.314067135000002\n",
      "The tumor volume for Capomulin that are above 55.9711007025 may be outliers.\n",
      "The tumor volume for Capomulin that are below 26.714832162499995 may be outliers.\n",
      "The IQR for final tumor volume for Ramicane is: 8.325365415000007\n",
      "The tumor volume for Ramicane that are above 57.48804812250001 may be outliers.\n",
      "The tumor volume for Ramicane that are below 24.18658646249998 may be outliers.\n",
      "The IQR for final tumor volume for Infubinol is: 10.002090667500006\n",
      "The tumor volume for Infubinol that are above 72.31757996875001 may be outliers.\n",
      "The tumor volume for Infubinol that are below 32.309217298749985 may be outliers.\n",
      "The IQR for final tumor volume for Ceftamin is: 9.5930104575\n",
      "The tumor volume for Ceftamin that are above 71.19095325625 may be outliers.\n",
      "The tumor volume for Ceftamin that are below 32.818911426250004 may be outliers.\n"
     ]
    }
   ],
   "source": [
    "# Calculate the final tumor volume of each mouse across four of the most promising \n",
    "# treatment regimens: Capomulin, Ramicane, Infubinol, and Ceftamin\n",
    "\n",
    "# Put treatments into a list for for loop (and later for plot labels)\n",
    "treatments=[\"Capomulin\", \"Ramicane\", \"Infubinol\", \"Ceftamin\"]\n",
    "\n",
    "# Create empty list to fill with tumor vol data (for plotting)\n",
    "tumor_volume=[]\n",
    "\n",
    "\n",
    "\n",
    "# Calculate the IQR and quantitatively determine if there are any potential outliers. \n",
    "for drug in treatments:\n",
    "    \n",
    "    # Locate the rows which contain mice on each drug and get the tumor volumes\n",
    "    final_tumor_volume=mouseid_timepoint.loc[mouseid_timepoint[\"Drug Regimen\"] \n",
    "                                             == drug,'Tumor Volume (mm3)']\n",
    "    \n",
    "    # add subset \n",
    "    tumor_volume.append(final_tumor_volume)\n",
    "    \n",
    "    # Determine outliers using upper and lower bounds\n",
    "    #quartiles = sorted_df['Tumor Volume (mm3)'].quantile([0.25,0.5,0.75])\n",
    "    quartiles = final_tumor_volume.quantile([.25,.5,.75])\n",
    "    lowerq = quartiles[0.25]\n",
    "    upperq = quartiles[0.75]\n",
    "    iqr = upperq-lowerq\n",
    "    lower_bound = lowerq - (1.5*iqr)\n",
    "    upper_bound = upperq + (1.5*iqr)\n",
    "    outliers = final_tumor_volume.loc[(final_tumor_volume < lower_bound) | (final_tumor_volume > upper_bound)]\n",
    "\n",
    "    print(f\"The IQR for final tumor volume for {drug} is: {iqr}\")\n",
    "    print(f\"The tumor volume for {drug} that are above {upper_bound} may be outliers.\")\n",
    "    print(f\"The tumor volume for {drug} that are below {lower_bound} may be outliers.\")\n",
    "    \n",
    "    "
   ]
  },
  {
   "cell_type": "code",
   "execution_count": 64,
   "metadata": {},
   "outputs": [
    {
     "data": {
      "image/png": "[encoded data removed]",
      "text/plain": [
       "<Figure size 432x432 with 1 Axes>"
      ]
     },
     "metadata": {
      "needs_background": "light"
     },
     "output_type": "display_data"
    }
   ],
   "source": [
    "orange_out = dict(markerfacecolor='red',markersize=10)\n",
    "plt.boxplot(tumor_volume, labels = treatments, flierprops=orange_out)\n",
    "plt.ylabel('Final Tumor Volume (mm3)')\n",
    "plt.show()"
   ]
  },
  {
   "cell_type": "markdown",
   "metadata": {},
   "source": [
    "## Line and Scatter Plots"
   ]
  },
  {
   "cell_type": "code",
   "execution_count": 73,
   "metadata": {},
   "outputs": [],
   "source": [
    "# Extract data for a target mouse treated with Capomulin:\n",
    "target_mouse_sorted=mouseid_timepoint.loc[mouseid_timepoint['Mouse ID']=='g316',:]\n",
    "target_mouse=target_mouse_sorted.sort_values('Timepoint')\n",
    "#target_mouse\n",
    "\n",
    "# Redusing dataframe to columns 'Timepoint' and 'Tumor Volume (mm3)':\n",
    "target_mouse_plot=target_mouse[['Timepoint','Tumor Volume (mm3)']]\n",
    "#target_mouse_plot\n",
    "\n",
    "# Change index to timepoints:\n",
    "target_mouse_plot=target_mouse_plot.set_index('Timepoint')\n",
    "#target_mouse_plot"
   ]
  },
  {
   "cell_type": "code",
   "execution_count": 78,
   "metadata": {},
   "outputs": [
    {
     "data": {
      "image/png": "[encoded data removed]",
      "text/plain": [
       "<Figure size 864x504 with 1 Axes>"
      ]
     },
     "metadata": {
      "needs_background": "light"
     },
     "output_type": "display_data"
    }
   ],
   "source": [
    "# Generate a line plot of time point versus tumor volume for a mouse treated with Capomulin\n",
    "\n",
    "target_mouse_plot.plot(linewidth=3, color='royalblue', figsize=(12, 7))\n",
    "\n",
    "# Set x-label, y-label, and a title:\n",
    "plt.title('Capomulin treatment of mouse g316', fontsize=20)\n",
    "plt.xlabel('Timepoint', fontsize=16, color='black')\n",
    "plt.ylabel('Tumor Volume (mm3)', fontsize=16, color='black')\n",
    "plt.legend('',frameon=False)\n",
    "plt.axis(\"equal\")\n",
    "\n",
    "plt.show()"
   ]
  },
  {
   "cell_type": "code",
   "execution_count": 80,
   "metadata": {},
   "outputs": [
    {
     "data": {
      "image/png": "[encoded data removed]",
      "text/plain": [
       "<Figure size 432x432 with 1 Axes>"
      ]
     },
     "metadata": {
      "needs_background": "light"
     },
     "output_type": "display_data"
    }
   ],
   "source": [
    "# Generate a scatter plot of mouse weight versus average tumor volume for the Capomulin regimen\n",
    "\n",
    "capomulin_mouse = clean_mouse_df.loc[clean_mouse_df['Drug Regimen']== \"Capomulin\"]\n",
    "capomulin_mouse = capomulin_mouse.groupby('Mouse ID').mean()\n",
    "\n",
    "\n",
    "x_axis = capomulin_mouse ['Weight (g)']\n",
    "y_axis = capomulin_mouse ['Tumor Volume (mm3)']\n",
    "plt.xlabel(\"Weight (g)\")\n",
    "plt.ylabel(\"Tumor Volume (mm3)\")\n",
    "plt.ylim(20,50)\n",
    "plt.xlim(14,27)\n",
    "\n",
    "\n",
    "plt.scatter(x_axis, y_axis, label=\"Mouse Weight vs Average Tumor Volume for Capomulin Treatment\")\n",
    "plt.show()"
   ]
  },
  {
   "cell_type": "markdown",
   "metadata": {},
   "source": [
    "## Correlation and Regression"
   ]
  },
  {
   "cell_type": "code",
   "execution_count": null,
   "metadata": {},
   "outputs": [],
   "source": [
    "# I ran out of time to complete this section\n",
    "# If I have time later, I'll try to complete this section and submit.\n"
   ]
  },
  {
   "cell_type": "code",
   "execution_count": null,
   "metadata": {},
   "outputs": [],
   "source": []
  }
 ],
 "metadata": {
  "anaconda-cloud": {},
  "kernelspec": {
   "display_name": "Python 3.6.10 64-bit ('PythonData': conda)",
   "language": "python",
   "name": "python361064bitpythondatacondad85e9534c80747b19acad918860e9ecb"
  },
  "language_info": {
   "codemirror_mode": {
    "name": "ipython",
    "version": 3
   },
   "file_extension": ".py",
   "mimetype": "text/x-python",
   "name": "python",
   "nbconvert_exporter": "python",
   "pygments_lexer": "ipython3",
   "version": "3.6.10"
  }
 },
 "nbformat": 4,
 "nbformat_minor": 2
}
